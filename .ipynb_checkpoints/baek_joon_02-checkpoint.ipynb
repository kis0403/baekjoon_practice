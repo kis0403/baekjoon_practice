{
 "cells": [
  {
   "cell_type": "code",
   "execution_count": null,
   "metadata": {},
   "outputs": [],
   "source": [
    "#https://www.acmicpc.net/problem/10996\n",
    "a = int(input())\n",
    "for j in range(2*a):\n",
    "    b = str()\n",
    "    if j%2 != 0:\n",
    "        for i in range(a):\n",
    "            if i%2 != 0:\n",
    "                b += str(\"*\")\n",
    "            else:\n",
    "                b += str(\" \")\n",
    "    else:\n",
    "        for i in range(a):\n",
    "            if i%2 != 0:\n",
    "                b += str(\" \")\n",
    "            else:\n",
    "                b += str(\"*\")        \n",
    "    print(b)"
   ]
  },
  {
   "cell_type": "code",
   "execution_count": null,
   "metadata": {},
   "outputs": [],
   "source": [
    "#https://www.acmicpc.net/problem/10818\n",
    "a = int(input())\n",
    "b = list(map(int, input().split()))\n",
    "b = b[:a]\n",
    "print(min(b),max(b))"
   ]
  },
  {
   "cell_type": "code",
   "execution_count": null,
   "metadata": {},
   "outputs": [],
   "source": [
    "#https://www.acmicpc.net/problem/2562\n",
    "a =list()\n",
    "for i in range(9):\n",
    "    a.append(int(input()))\n",
    "    \n",
    "print(max(a))\n",
    "print(1+a.index(max(a)))"
   ]
  },
  {
   "cell_type": "code",
   "execution_count": null,
   "metadata": {},
   "outputs": [],
   "source": [
    "#https://www.acmicpc.net/problem/2577\n",
    "a = 1\n",
    "for i in range(3):\n",
    "    a *= int(input())\n",
    "a = str(a)\n",
    "for j in range(10):\n",
    "    b = 0\n",
    "    for k in range(len(a)):\n",
    "        if a[k] == str(j):\n",
    "            b += 1\n",
    "    print(b)"
   ]
  },
  {
   "cell_type": "code",
   "execution_count": null,
   "metadata": {},
   "outputs": [],
   "source": [
    "#https://www.acmicpc.net/problem/3052\n",
    "b = list()\n",
    "for i in range(10):\n",
    "    a = int(input())\n",
    "    b.append(a%42)\n",
    "print(len(list(set(b))))"
   ]
  },
  {
   "cell_type": "code",
   "execution_count": null,
   "metadata": {},
   "outputs": [],
   "source": [
    "#https://www.acmicpc.net/problem/1546\n",
    "a = int(input())\n",
    "b = list(map(int, input().split()))\n",
    "m = max(b)\n",
    "c = list()\n",
    "for i in range(a):\n",
    "    c.append(b[i]/m*100)\n",
    "print(sum(c)/a)"
   ]
  },
  {
   "cell_type": "code",
   "execution_count": null,
   "metadata": {},
   "outputs": [],
   "source": [
    "#https://www.acmicpc.net/problem/8958\n",
    "a = int(input())\n",
    "for i in range(a):\n",
    "    b = str(input())\n",
    "    b2 = b.split(sep=\"X\")\n",
    "    c2 = 0\n",
    "    for i in b2:\n",
    "        if len(i) != 0:\n",
    "            c = 0\n",
    "            for j in range(len(i)):\n",
    "                c += j+1\n",
    "            c2 += c\n",
    "    print(c2)"
   ]
  },
  {
   "cell_type": "code",
   "execution_count": null,
   "metadata": {},
   "outputs": [],
   "source": [
    "#https://www.acmicpc.net/problem/4344\n",
    "a = int(input())\n",
    "for i in range(a):\n",
    "    b = list(map(int, input().split()))\n",
    "    b_list = b[1:b[0]+1]\n",
    "    c = 0\n",
    "    for j in b_list:\n",
    "        #print(j)\n",
    "        if j > int(sum(b_list)/b[0]):\n",
    "            c += 1\n",
    "    print('%.3f' %round(c/b[0]*100,3),\"%\",sep=\"\")"
   ]
  },
  {
   "cell_type": "code",
   "execution_count": null,
   "metadata": {},
   "outputs": [],
   "source": [
    "#https://www.acmicpc.net/problem/15596\n",
    "def solve(a):\n",
    "    tem = 0\n",
    "    for i in a:\n",
    "        tem += i   \n",
    "    return tem"
   ]
  },
  {
   "cell_type": "code",
   "execution_count": 38,
   "metadata": {},
   "outputs": [],
   "source": [
    "#https://www.acmicpc.net/problem/4673\n",
    "list_a = {i for i in range(1,101)}\n",
    "list_b  = set()\n",
    "def d(n):\n",
    "    for i in range(1,n+1):\n",
    "        for j in str(i):\n",
    "            i += int(j)\n",
    "        list_b.add(i)"
   ]
  },
  {
   "cell_type": "code",
   "execution_count": 39,
   "metadata": {
    "scrolled": true
   },
   "outputs": [
    {
     "name": "stdout",
     "output_type": "stream",
     "text": [
      "1\n",
      "3\n",
      "5\n",
      "7\n",
      "9\n",
      "20\n",
      "31\n",
      "42\n",
      "53\n",
      "64\n",
      "75\n",
      "86\n",
      "97\n"
     ]
    }
   ],
   "source": [
    "d(100)\n",
    "for i in sorted(list_a-list_b):\n",
    "    print(i)"
   ]
  },
  {
   "cell_type": "code",
   "execution_count": 65,
   "metadata": {},
   "outputs": [
    {
     "name": "stdout",
     "output_type": "stream",
     "text": [
      "210\n",
      "105\n"
     ]
    }
   ],
   "source": [
    "#https://www.acmicpc.net/problem/1065\n",
    "a = int(input())\n",
    "h_cnt = 0 \n",
    "for i in range(1,a+1):\n",
    "    if len(str(i)) > 2:\n",
    "        i_list = []\n",
    "        k_list = []\n",
    "        for j in str(i):\n",
    "            i_list.append(int(j))\n",
    "            for k in range(len(i_list)-1):\n",
    "                k_list.append(i_list[k]-i_list[k+1])\n",
    "        if len(set(k_list)) == 1:\n",
    "            h_cnt += 1\n",
    "    else:\n",
    "        h_cnt += 1\n",
    "print(h_cnt)"
   ]
  },
  {
   "cell_type": "code",
   "execution_count": null,
   "metadata": {},
   "outputs": [],
   "source": []
  }
 ],
 "metadata": {
  "kernelspec": {
   "display_name": "Python 3",
   "language": "python",
   "name": "python3"
  },
  "language_info": {
   "codemirror_mode": {
    "name": "ipython",
    "version": 3
   },
   "file_extension": ".py",
   "mimetype": "text/x-python",
   "name": "python",
   "nbconvert_exporter": "python",
   "pygments_lexer": "ipython3",
   "version": "3.6.5"
  }
 },
 "nbformat": 4,
 "nbformat_minor": 2
}
