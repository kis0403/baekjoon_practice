{
 "cells": [
  {
   "cell_type": "code",
   "execution_count": 4,
   "metadata": {},
   "outputs": [
    {
     "name": "stdout",
     "output_type": "stream",
     "text": [
      "z\n",
      "122\n"
     ]
    }
   ],
   "source": [
    "#https://www.acmicpc.net/problem/11654\n",
    "a = str(input())\n",
    "print(ord(a))"
   ]
  },
  {
   "cell_type": "code",
   "execution_count": 17,
   "metadata": {},
   "outputs": [
    {
     "name": "stdout",
     "output_type": "stream",
     "text": [
      "5\n",
      "5432113\n",
      "15\n"
     ]
    }
   ],
   "source": [
    "#https://www.acmicpc.net/problem/11720\n",
    "a = int(input())\n",
    "b = str(input())\n",
    "b = b[:a]\n",
    "sum_b = 0\n",
    "for i in str(b):\n",
    "    sum_b += int(i)\n",
    "print(sum_b)"
   ]
  },
  {
   "cell_type": "code",
   "execution_count": 1,
   "metadata": {},
   "outputs": [
    {
     "name": "stdout",
     "output_type": "stream",
     "text": [
      "baekjoon\n",
      "1 0 -1 -1 2 -1 -1 -1 -1 4 3 -1 -1 7 5 -1 -1 -1 -1 -1 -1 -1 -1 -1 -1 -1 "
     ]
    }
   ],
   "source": [
    "#https://www.acmicpc.net/problem/10809\n",
    "import numpy as np\n",
    "a = str(input())\n",
    "base = np.arange(97,123)\n",
    "alpha = list()\n",
    "for i in range(len(base)):\n",
    "    alpha.append(chr(base[i]))\n",
    "\n",
    "for j in a:\n",
    "    try:\n",
    "        alpha[alpha.index(j)] = a.index(j)\n",
    "    except:\n",
    "        pass\n",
    "\n",
    "for k in alpha:\n",
    "    if type(k) == str:\n",
    "        alpha[alpha.index(k)] = -1\n",
    "for l in alpha:\n",
    "    print(l,end=\" \")"
   ]
  },
  {
   "cell_type": "code",
   "execution_count": 2,
   "metadata": {},
   "outputs": [
    {
     "name": "stdout",
     "output_type": "stream",
     "text": [
      "baekjoon\n",
      "1 0 -1 -1 2 -1 -1 -1 -1 4 3 -1 -1 7 5 -1 -1 -1 -1 -1 -1 -1 -1 -1 -1 -1\n"
     ]
    }
   ],
   "source": [
    "a = input()\n",
    "for i in range(26):\n",
    "    if i == 25:\n",
    "        print(a.find(chr(97+i)))\n",
    "    else:\n",
    "        print(a.find(chr(97+i)),end=\" \")"
   ]
  },
  {
   "cell_type": "code",
   "execution_count": 24,
   "metadata": {},
   "outputs": [
    {
     "name": "stdout",
     "output_type": "stream",
     "text": [
      "2\n",
      "3 ABC\n",
      "5 /HTP\n"
     ]
    }
   ],
   "source": [
    "#https://www.acmicpc.net/problem/2675\n",
    "a = int(input())\n",
    "res = list()\n",
    "for i in range(a):\n",
    "    b = list(input().split(\" \"))\n",
    "    res.append(int(b[0])*str(b[1]))"
   ]
  },
  {
   "cell_type": "code",
   "execution_count": 37,
   "metadata": {},
   "outputs": [
    {
     "name": "stdout",
     "output_type": "stream",
     "text": [
      "2\n",
      "3 ABC\n",
      "5 /HTP\n",
      "AAABBBCCC\n",
      "/////HHHHHTTTTTPPPPP\n"
     ]
    }
   ],
   "source": [
    "#https://www.acmicpc.net/problem/2675\n",
    "a = int(input())\n",
    "res = list()\n",
    "for i in range(a):\n",
    "    b = list(input().split(\" \"))\n",
    "    tem = str()\n",
    "    for j in b[1]:\n",
    "        tem += int(b[0])*str(j)\n",
    "    res.append(tem)\n",
    "    \n",
    "for j in range(a):\n",
    "    print(res[j])"
   ]
  },
  {
   "cell_type": "code",
   "execution_count": 107,
   "metadata": {},
   "outputs": [
    {
     "name": "stdout",
     "output_type": "stream",
     "text": [
      "z\n",
      "Z\n"
     ]
    }
   ],
   "source": [
    "#https://www.acmicpc.net/problem/1157\n",
    "#시간초과 -> count 사용 x\n",
    "a = str(input()).lower()\n",
    "a_dic = {}\n",
    "for t in list(a): a_dic[t] = 0\n",
    "for t in list(a): a_dic[t] += 1\n",
    "    \n",
    "cnt_list = list(a_dic.values())\n",
    "char_list = list(a_dic.keys())\n",
    "\n",
    "cnt = 0\n",
    "for i in cnt_list:\n",
    "    if i == max(cnt_list):\n",
    "        cnt += 1\n",
    "\n",
    "if cnt == 1:\n",
    "    print(char_list[cnt_list.index(max(cnt_list))].upper())\n",
    "else:\n",
    "    print(\"?\")"
   ]
  },
  {
   "cell_type": "code",
   "execution_count": 110,
   "metadata": {},
   "outputs": [
    {
     "name": "stdout",
     "output_type": "stream",
     "text": [
      "The Curious Case of Benjamin Button\n",
      "6\n"
     ]
    }
   ],
   "source": [
    "#https://www.acmicpc.net/problem/1152\n",
    "a = list(map(str,input().split()))\n",
    "print(len(a))"
   ]
  },
  {
   "cell_type": "code",
   "execution_count": 113,
   "metadata": {},
   "outputs": [
    {
     "name": "stdout",
     "output_type": "stream",
     "text": [
      "734 893\n",
      "437\n"
     ]
    }
   ],
   "source": [
    "#https://www.acmicpc.net/problem/2908\n",
    "a = list(map(str,input().split()))\n",
    "sg_list = list()\n",
    "for i in a:\n",
    "    sg_list.append(int(i[0])+10*int(i[1])+100*int(i[2]))\n",
    "if sg_list[0] > sg_list[1]:\n",
    "    print(sg_list[0])\n",
    "else:\n",
    "    print(sg_list[1])\n",
    "    "
   ]
  },
  {
   "cell_type": "code",
   "execution_count": 114,
   "metadata": {},
   "outputs": [
    {
     "name": "stdout",
     "output_type": "stream",
     "text": [
      "WERIEJFOA\n",
      "51\n"
     ]
    }
   ],
   "source": [
    "#https://www.acmicpc.net/problem/5622\n",
    "dial=input()\n",
    "time=0\n",
    "for c in dial:\n",
    "    if c in ['A', 'B', 'C']:\n",
    "        time += 3\n",
    "    elif c in ['D', 'E', 'F']:\n",
    "        time += 4\n",
    "    elif c in ['G', 'H', 'I']:\n",
    "        time += 5\n",
    "    elif c in ['J', 'K', 'L']:\n",
    "        time += 6\n",
    "    elif c in ['M', 'N', 'O']:\n",
    "        time += 7\n",
    "    elif c in ['P', 'Q', 'R', 'S']:\n",
    "        time += 8\n",
    "    elif c in ['T', 'U', 'V']:\n",
    "        time += 9\n",
    "    elif c in ['W', 'X', 'Y', 'Z']:\n",
    "        time += 10\n",
    "print(time)"
   ]
  },
  {
   "cell_type": "code",
   "execution_count": 122,
   "metadata": {},
   "outputs": [
    {
     "name": "stdout",
     "output_type": "stream",
     "text": [
      "ljes=njak\n",
      "6\n"
     ]
    }
   ],
   "source": [
    "#https://www.acmicpc.net/problem/2941\n",
    "word=input()\n",
    "alphabet=['c=','c-','dz=','d-','lj','nj','s=','z=']\n",
    "\n",
    "for i in alphabet:\n",
    "    word=word.replace(i,'.')\n",
    "print(len(word))"
   ]
  },
  {
   "cell_type": "code",
   "execution_count": 146,
   "metadata": {},
   "outputs": [
    {
     "name": "stdout",
     "output_type": "stream",
     "text": [
      "4\n",
      "aba\n",
      "abab\n",
      "abcabc\n",
      "a\n",
      "1\n"
     ]
    }
   ],
   "source": [
    "#https://www.acmicpc.net/problem/1316\n",
    "n = int(input())\n",
    "cnt = 0\n",
    "for i in range(n):\n",
    "    word = input()\n",
    "    emp_list = list()\n",
    "    for i in word:\n",
    "        emp_list.append(word.find(i))\n",
    "    if emp_list == sorted(emp_list):\n",
    "        cnt +=1\n",
    "print(cnt)\n"
   ]
  },
  {
   "cell_type": "code",
   "execution_count": null,
   "metadata": {},
   "outputs": [],
   "source": []
  }
 ],
 "metadata": {
  "kernelspec": {
   "display_name": "Python 3",
   "language": "python",
   "name": "python3"
  },
  "language_info": {
   "codemirror_mode": {
    "name": "ipython",
    "version": 3
   },
   "file_extension": ".py",
   "mimetype": "text/x-python",
   "name": "python",
   "nbconvert_exporter": "python",
   "pygments_lexer": "ipython3",
   "version": "3.6.5"
  }
 },
 "nbformat": 4,
 "nbformat_minor": 2
}
