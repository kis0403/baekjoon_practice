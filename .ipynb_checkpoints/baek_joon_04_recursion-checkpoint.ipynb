{
 "cells": [
  {
   "cell_type": "code",
   "execution_count": 11,
   "metadata": {},
   "outputs": [
    {
     "name": "stdout",
     "output_type": "stream",
     "text": [
      "1\n",
      "1\n"
     ]
    }
   ],
   "source": [
    "#https://www.acmicpc.net/problem/10872\n",
    "a = int(input())\n",
    "def factorial(n):\n",
    "    if n== 1 or n==0:\n",
    "        return 1\n",
    "    return factorial(n-1) * n\n",
    "print(factorial(a))"
   ]
  },
  {
   "cell_type": "code",
   "execution_count": 13,
   "metadata": {},
   "outputs": [
    {
     "name": "stdout",
     "output_type": "stream",
     "text": [
      "4\n",
      "3\n"
     ]
    }
   ],
   "source": [
    "#https://www.acmicpc.net/problem/10870\n",
    "a = int(input())\n",
    "def fibonacci(n):\n",
    "    if n == 0:\n",
    "        return 0\n",
    "    elif n == 1:\n",
    "        return 1\n",
    "    else:\n",
    "        return fibonacci(n-2)+fibonacci(n-1)\n",
    "print(fibonacci(a))"
   ]
  },
  {
   "cell_type": "code",
   "execution_count": null,
   "metadata": {},
   "outputs": [],
   "source": [
    "#https://www.acmicpc.net/problem/2447"
   ]
  },
  {
   "cell_type": "code",
   "execution_count": 14,
   "metadata": {},
   "outputs": [
    {
     "name": "stdout",
     "output_type": "stream",
     "text": [
      "3\n",
      "7\n",
      "1 3\n",
      "1 2\n",
      "3 2\n",
      "1 3\n",
      "2 1\n",
      "2 3\n",
      "1 3\n"
     ]
    }
   ],
   "source": [
    "#https://www.acmicpc.net/problem/11729\n",
    "def hanoi(N,a,b):\n",
    "    if N == 1:\n",
    "        return [[a,b]]\n",
    "    return hanoi(N-1,a,6-a-b)+[[a,b]]+hanoi(N-1,6-a-b,b)\n",
    "\n",
    "N = int(input())\n",
    "\n",
    "print(2**N-1)\n",
    "res = hanoi(N,1,3)\n",
    "for i in range(len(res)):\n",
    "    print(res[i][0],res[i][1])"
   ]
  },
  {
   "cell_type": "code",
   "execution_count": null,
   "metadata": {},
   "outputs": [],
   "source": []
  }
 ],
 "metadata": {
  "kernelspec": {
   "display_name": "Python 3",
   "language": "python",
   "name": "python3"
  },
  "language_info": {
   "codemirror_mode": {
    "name": "ipython",
    "version": 3
   },
   "file_extension": ".py",
   "mimetype": "text/x-python",
   "name": "python",
   "nbconvert_exporter": "python",
   "pygments_lexer": "ipython3",
   "version": "3.6.5"
  }
 },
 "nbformat": 4,
 "nbformat_minor": 2
}
