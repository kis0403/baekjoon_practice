{
 "cells": [
  {
   "cell_type": "code",
   "execution_count": 18,
   "metadata": {},
   "outputs": [
    {
     "name": "stdout",
     "output_type": "stream",
     "text": [
      "1000 70 170\n",
      "11\n"
     ]
    }
   ],
   "source": [
    "#https://www.acmicpc.net/problem/1712\n",
    "import sys\n",
    "a, b, c = map(int, input().split())\n",
    "sub = c-b\n",
    "if sub <= 0:\n",
    "    print(-1)\n",
    "else:\n",
    "    print(a//sub+1)"
   ]
  },
  {
   "cell_type": "code",
   "execution_count": 118,
   "metadata": {},
   "outputs": [
    {
     "name": "stdout",
     "output_type": "stream",
     "text": [
      "1\n",
      "-1\n"
     ]
    }
   ],
   "source": [
    "#https://www.acmicpc.net/problem/2839\n",
    "a = int(input())\n",
    "m = 1001\n",
    "for x in range(1001):\n",
    "    for y in range(5):\n",
    "        if a == (5*x) + (3*y):\n",
    "            m = (min(m,x+y))\n",
    "if m > 1000:\n",
    "    print(-1)\n",
    "else:\n",
    "    print(m)"
   ]
  },
  {
   "cell_type": "code",
   "execution_count": 150,
   "metadata": {},
   "outputs": [
    {
     "name": "stdout",
     "output_type": "stream",
     "text": [
      "54\n",
      "1\n"
     ]
    }
   ],
   "source": [
    "#https://www.acmicpc.net/problem/2292\n",
    "'''\n",
    "2~7 -> 2\n",
    "8~19 -> 3\n",
    "20~37 -> 4\n",
    "38~61 -> 5\n",
    "\n",
    "1->1\n",
    "6->2\n",
    "12->3\n",
    "18->4\n",
    "24->5\n",
    "'''\n",
    "a =int(input())\n",
    "r= 0\n",
    "c = 1\n",
    "t = 1\n",
    "while True:\n",
    "    c += 6 \n",
    "    r += 1\n",
    "    if a < c:\n",
    "        print(t)\n",
    "        break\n",
    "    c+=6\n",
    "    "
   ]
  },
  {
   "cell_type": "code",
   "execution_count": null,
   "metadata": {},
   "outputs": [],
   "source": []
  }
 ],
 "metadata": {
  "kernelspec": {
   "display_name": "Python 3",
   "language": "python",
   "name": "python3"
  },
  "language_info": {
   "codemirror_mode": {
    "name": "ipython",
    "version": 3
   },
   "file_extension": ".py",
   "mimetype": "text/x-python",
   "name": "python",
   "nbconvert_exporter": "python",
   "pygments_lexer": "ipython3",
   "version": "3.6.5"
  }
 },
 "nbformat": 4,
 "nbformat_minor": 2
}
