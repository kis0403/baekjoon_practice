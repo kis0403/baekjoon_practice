{
 "cells": [
  {
   "cell_type": "code",
   "execution_count": 18,
   "metadata": {},
   "outputs": [
    {
     "name": "stdout",
     "output_type": "stream",
     "text": [
      "1000 70 170\n",
      "11\n"
     ]
    }
   ],
   "source": [
    "#https://www.acmicpc.net/problem/1712\n",
    "import sys\n",
    "a, b, c = map(int, input().split())\n",
    "sub = c-b\n",
    "if sub <= 0:\n",
    "    print(-1)\n",
    "else:\n",
    "    print(a//sub+1)"
   ]
  },
  {
   "cell_type": "code",
   "execution_count": 118,
   "metadata": {},
   "outputs": [
    {
     "name": "stdout",
     "output_type": "stream",
     "text": [
      "1\n",
      "-1\n"
     ]
    }
   ],
   "source": [
    "#https://www.acmicpc.net/problem/2839\n",
    "a = int(input())\n",
    "m = 1001\n",
    "for x in range(1001):\n",
    "    for y in range(5):\n",
    "        if a == (5*x) + (3*y):\n",
    "            m = (min(m,x+y))\n",
    "if m > 1000:\n",
    "    print(-1)\n",
    "else:\n",
    "    print(m)"
   ]
  },
  {
   "cell_type": "code",
   "execution_count": 37,
   "metadata": {},
   "outputs": [
    {
     "name": "stdout",
     "output_type": "stream",
     "text": [
      "7\n",
      "2\n"
     ]
    }
   ],
   "source": [
    "#https://www.acmicpc.net/problem/2292\n",
    "'''\n",
    "2~7 -> 2\n",
    "8~19 -> 3\n",
    "20~37 -> 4\n",
    "38~61 -> 5\n",
    "\n",
    "1->1\n",
    "6->2\n",
    "12->3\n",
    "18->4\n",
    "24->5\n",
    "'''\n",
    "a = int(input())\n",
    "if a == 1:\n",
    "    print(1)\n",
    "else:\n",
    "    i = 1\n",
    "    cnt = a\n",
    "    while cnt > 0:\n",
    "        i += 1\n",
    "        cnt -= (6 * i)\n",
    "\n",
    "    for n in range(i, -1, -1):\n",
    "        a = 2 + ((3 * n) * (n - 1))\n",
    "        b = 8 + 3 * (((n * n) - 1) + (n - 1))\n",
    "        if a <= a < b:\n",
    "            print(n + 1)\n",
    "            break\n",
    "            \n",
    "    \n",
    "    "
   ]
  },
  {
   "cell_type": "code",
   "execution_count": 114,
   "metadata": {},
   "outputs": [
    {
     "name": "stdout",
     "output_type": "stream",
     "text": [
      "2\n",
      "1/2\n"
     ]
    }
   ],
   "source": [
    "#https://www.acmicpc.net/problem/1193\n",
    "'''\n",
    "1 12 321 1234 54321 123456 \n",
    "1 21 123 4321 12345 654321\n",
    "1 2 3 4 5 6 ...\n",
    "2 3 6 10 15 21...\n",
    "'''\n",
    "a = int(input())\n",
    "\n",
    "if a == 1:\n",
    "    print('1/1')\n",
    "else:\n",
    "    i=1\n",
    "    cnt=a-1\n",
    "    while i*(i+1)/2 <= cnt:\n",
    "        i += 1\n",
    "    gap = a - i*(i-1)/2\n",
    "\n",
    "    if i%2 != 0:\n",
    "        print(int(i+1-gap),\"/\",int(gap),sep=\"\")\n",
    "    else:\n",
    "        print(int(gap),\"/\",int(i+1-gap),sep=\"\")\n"
   ]
  },
  {
   "cell_type": "code",
   "execution_count": 131,
   "metadata": {},
   "outputs": [
    {
     "name": "stdout",
     "output_type": "stream",
     "text": [
      "2 1 5\n",
      "4\n"
     ]
    }
   ],
   "source": [
    "#https://www.acmicpc.net/problem/2869\n",
    "#import sys\n",
    "a, b, v = map(int,input().split())\n",
    "\n",
    "t1 = v-b\n",
    "t2 = a-b\n",
    "\n",
    "if t1%t2 == 0:\n",
    "    print(t1//t2)\n",
    "else:\n",
    "    print(t1//t2+1)"
   ]
  },
  {
   "cell_type": "code",
   "execution_count": 1,
   "metadata": {},
   "outputs": [
    {
     "name": "stdout",
     "output_type": "stream",
     "text": [
      "1\n",
      "6 12 12\n",
      "602\n"
     ]
    }
   ],
   "source": [
    "#https://www.acmicpc.net/problem/10250\n",
    "a = int(input())\n",
    "for i in range(a):\n",
    "    h,w,n = map(int,input().split())\n",
    "    \n",
    "    if n%h != 0:\n",
    "        fst = str(n%h)\n",
    "        scd = str(n//h+1)\n",
    "    else:\n",
    "        fst = str(h)\n",
    "        scd = str(n//h)\n",
    "    \n",
    "    if len(scd) == 2:\n",
    "        print(int(fst+scd))\n",
    "    else:\n",
    "        print(int(fst+\"0\"+scd))"
   ]
  },
  {
   "cell_type": "code",
   "execution_count": 10,
   "metadata": {},
   "outputs": [
    {
     "name": "stdout",
     "output_type": "stream",
     "text": [
      "1\n",
      "1\n",
      "3\n",
      "6\n"
     ]
    }
   ],
   "source": [
    "#https://www.acmicpc.net/problem/2775\n",
    "'''\n",
    "2: 1  4  10 20 35 56 84 ..\n",
    "1: 1  3  6  10 15 21 28 ..\n",
    "0: 1  2  3  4  5  6  7 ...\n",
    "'''\n",
    "def ncr(a,b):\n",
    "    k = 1\n",
    "    l = 1\n",
    "    if b == 0:\n",
    "        return 1\n",
    "    elif b == 1:\n",
    "        return int(a-1)\n",
    "    else:\n",
    "        for i in range(min(a-b,b)):\n",
    "            if min(a-b,b) == b:\n",
    "                k *= a\n",
    "                a = a-1\n",
    "                l *= b\n",
    "                b = b-1\n",
    "            else:\n",
    "                b = a-b\n",
    "                k *= a\n",
    "                a = a-1\n",
    "                l *= b\n",
    "                b = b-1                \n",
    "        t = k/l\n",
    "        return int(t)\n",
    "\n",
    "a = int(input())\n",
    "for i in range(a):\n",
    "    k = int(input())\n",
    "    n = int(input())\n",
    "    print(ncr(n+k,k+1))"
   ]
  },
  {
   "cell_type": "code",
   "execution_count": 46,
   "metadata": {},
   "outputs": [
    {
     "name": "stdout",
     "output_type": "stream",
     "text": [
      "3\n",
      "0 3\n",
      "??\n",
      "3\n",
      "0 4\n",
      "??\n",
      "3\n",
      "0 5\n",
      "4\n"
     ]
    }
   ],
   "source": [
    "#https://www.acmicpc.net/problem/1011\n",
    "'''\n",
    "#1  1 -> 1\n",
    "2  1-1 -> 2\n",
    "3  1-1-1 -> 3\n",
    "#4  1-2-1 -> 3\n",
    "5  1-2-1-1 -> 4\n",
    "6  1-2-2-1 -> 4\n",
    "7  1-2-2-1-1 -> 5\n",
    "8  1-2-2-2-1 -> 5\n",
    "#9  1-2-3-2-1 -> 5\n",
    "10 1-2-3-2-1-1 -> 6\n",
    "11 1-2-3-2-2-1 -> 6\n",
    "12 1-2-3-3-2-1 -> 6\n",
    "13 1-2-3-3-2-1-1 -> 7\n",
    "14 1-2-3-3-2-2-1 -> 7\n",
    "15 1-2-3-3-3-2-1 -> 7\n",
    "#16 1-2-3-4-3-2-1 -> 7\n",
    "17 1-2-3-4-3-2-1-1 -> 8\n",
    "\n",
    "'''\n",
    "import math\n",
    "a = int(input())\n",
    "for i in range(a):\n",
    "    x,y = map(int,input().split())\n",
    "    t = y-x\n",
    "    if t == 1:\n",
    "        print(1)\n",
    "    elif (t <= int(t**0.5)**2 + int(t**0.5)) & (t > int(t**0.5)**2):\n",
    "        print(int(t**0.5)*2)\n",
    "    else:\n",
    "        print((math.ceil(t**0.5)*2)-1)\n",
    "         "
   ]
  },
  {
   "cell_type": "code",
   "execution_count": null,
   "metadata": {},
   "outputs": [],
   "source": []
  }
 ],
 "metadata": {
  "kernelspec": {
   "display_name": "Python 3",
   "language": "python",
   "name": "python3"
  },
  "language_info": {
   "codemirror_mode": {
    "name": "ipython",
    "version": 3
   },
   "file_extension": ".py",
   "mimetype": "text/x-python",
   "name": "python",
   "nbconvert_exporter": "python",
   "pygments_lexer": "ipython3",
   "version": "3.6.5"
  }
 },
 "nbformat": 4,
 "nbformat_minor": 2
}
